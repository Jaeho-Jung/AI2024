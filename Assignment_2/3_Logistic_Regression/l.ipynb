{
 "cells": [
  {
   "cell_type": "code",
   "execution_count": 2,
   "metadata": {},
   "outputs": [
    {
     "name": "stdout",
     "output_type": "stream",
     "text": [
      "(70000, 784)\n",
      "(70000,)\n",
      "Iteration 1/100: Training Loss = 1.987266576115422, Training Accuracy = 0.7391904761904762\n",
      "Validation Loss = 1.988730157106419, Validation Accuracy = 0.736\n",
      "Iteration 2/100: Training Loss = 1.7407131496257295, Training Accuracy = 0.7474126984126984\n",
      "Validation Loss = 1.7431955491725428, Validation Accuracy = 0.742\n",
      "Iteration 3/100: Training Loss = 1.5511558855993697, Training Accuracy = 0.7555555555555555\n",
      "Validation Loss = 1.5543127287619014, Validation Accuracy = 0.7515714285714286\n",
      "Iteration 4/100: Training Loss = 1.4048095553470292, Training Accuracy = 0.7641746031746032\n",
      "Validation Loss = 1.4084357357917068, Validation Accuracy = 0.7597142857142857\n",
      "Iteration 5/100: Training Loss = 1.2901105969253033, Training Accuracy = 0.7726031746031746\n",
      "Validation Loss = 1.2940900213544586, Validation Accuracy = 0.7674285714285715\n"
     ]
    }
   ],
   "source": [
    "from sklearn import datasets\n",
    "from logistic_regression import LogisticRegression\n",
    "import numpy as np\n",
    "\n",
    "X, y = datasets.fetch_openml('mnist_784', version=1, return_X_y=True)\n",
    "X = X.to_numpy()\n",
    "y = y.to_numpy()\n",
    "\n",
    "print(X.shape)\n",
    "print(y.shape)\n",
    "\n",
    "X = X.astype(np.float32)\n",
    "X /= 255.\n",
    "X -= X.mean(axis=0)\n",
    "\n",
    "y = y.astype(np.int16)\n",
    "\n",
    "model = LogisticRegression(alpha=0.001, max_iter=100, early_stopping=True)\n",
    "model.fit(X.T, y)"
   ]
  },
  {
   "cell_type": "code",
   "execution_count": null,
   "metadata": {},
   "outputs": [],
   "source": []
  }
 ],
 "metadata": {
  "kernelspec": {
   "display_name": "ai2024",
   "language": "python",
   "name": "python3"
  },
  "language_info": {
   "codemirror_mode": {
    "name": "ipython",
    "version": 3
   },
   "file_extension": ".py",
   "mimetype": "text/x-python",
   "name": "python",
   "nbconvert_exporter": "python",
   "pygments_lexer": "ipython3",
   "version": "3.11.0"
  }
 },
 "nbformat": 4,
 "nbformat_minor": 2
}
